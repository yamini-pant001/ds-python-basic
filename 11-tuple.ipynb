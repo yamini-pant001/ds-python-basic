{
 "cells": [
  {
   "cell_type": "code",
   "execution_count": 1,
   "id": "c4afcd52-0dcc-4600-95a8-a4c4d4f8b31b",
   "metadata": {},
   "outputs": [],
   "source": [
    "#empty tuple\n",
    "empty_tuple=()"
   ]
  },
  {
   "cell_type": "code",
   "execution_count": 3,
   "id": "a1c4b893-38a2-444f-b84a-cc5844e5da70",
   "metadata": {},
   "outputs": [],
   "source": [
    "#Tuple with elements\n",
    "numbers = (1,2,3,4,5)"
   ]
  },
  {
   "cell_type": "code",
   "execution_count": 5,
   "id": "01bef2c9-bfca-4427-b474-e68ee7154bca",
   "metadata": {},
   "outputs": [],
   "source": [
    "#mixed data types\n",
    "mixed_tuple =(1,\"hello\",3.14,True)"
   ]
  },
  {
   "cell_type": "code",
   "execution_count": 7,
   "id": "87cc4246-84f3-4f81-89a0-1d142efdc17f",
   "metadata": {},
   "outputs": [],
   "source": [
    "single_element=(42,)"
   ]
  },
  {
   "cell_type": "raw",
   "id": "0a8cdb2d-f5e3-4e21-8997-15a300e43654",
   "metadata": {},
   "source": []
  }
 ],
 "metadata": {
  "kernelspec": {
   "display_name": "Python [conda env:base] *",
   "language": "python",
   "name": "conda-base-py"
  },
  "language_info": {
   "codemirror_mode": {
    "name": "ipython",
    "version": 3
   },
   "file_extension": ".py",
   "mimetype": "text/x-python",
   "name": "python",
   "nbconvert_exporter": "python",
   "pygments_lexer": "ipython3",
   "version": "3.12.7"
  }
 },
 "nbformat": 4,
 "nbformat_minor": 5
}
