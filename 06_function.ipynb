{
 "cells": [
  {
   "cell_type": "markdown",
   "id": "7b06453b-2cb8-47ce-af8b-5071c7a0be2e",
   "metadata": {},
   "source": [
    "Function in python"
   ]
  },
  {
   "cell_type": "code",
   "execution_count": 7,
   "id": "04497893-a2c4-41df-8291-0e6f8b9eb9f9",
   "metadata": {},
   "outputs": [],
   "source": [
    "def avg(a,b):\n",
    "    return(a+b)/2\n",
    "    "
   ]
  },
  {
   "cell_type": "code",
   "execution_count": 11,
   "id": "82db8f1d-8fad-4fcb-8521-59ffcc964081",
   "metadata": {},
   "outputs": [
    {
     "data": {
      "text/plain": [
       "4.5"
      ]
     },
     "execution_count": 11,
     "metadata": {},
     "output_type": "execute_result"
    }
   ],
   "source": [
    "avg(4,5)"
   ]
  },
  {
   "cell_type": "code",
   "execution_count": 15,
   "id": "9e60b602-8da4-46f4-a295-60170ff9afdd",
   "metadata": {},
   "outputs": [],
   "source": [
    "def greet():\n",
    "    print(\"Hello,Good Morning\")"
   ]
  },
  {
   "cell_type": "code",
   "execution_count": 17,
   "id": "b3a79b67-04a9-474f-acf9-87e060d09d90",
   "metadata": {},
   "outputs": [
    {
     "name": "stdout",
     "output_type": "stream",
     "text": [
      "Hello,Good Morning\n"
     ]
    }
   ],
   "source": [
    "greet()"
   ]
  }
 ],
 "metadata": {
  "kernelspec": {
   "display_name": "Python [conda env:base] *",
   "language": "python",
   "name": "conda-base-py"
  },
  "language_info": {
   "codemirror_mode": {
    "name": "ipython",
    "version": 3
   },
   "file_extension": ".py",
   "mimetype": "text/x-python",
   "name": "python",
   "nbconvert_exporter": "python",
   "pygments_lexer": "ipython3",
   "version": "3.12.7"
  }
 },
 "nbformat": 4,
 "nbformat_minor": 5
}
