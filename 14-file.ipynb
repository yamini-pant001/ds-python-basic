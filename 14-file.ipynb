{
 "cells": [
  {
   "cell_type": "code",
   "execution_count": 2,
   "id": "2b3599b1-650d-47a3-9401-722e24ff7754",
   "metadata": {},
   "outputs": [],
   "source": [
    "f=open(\"text.txt\",\"r\")"
   ]
  },
  {
   "cell_type": "code",
   "execution_count": 4,
   "id": "7657886c-546b-42d3-b833-91376b654cf5",
   "metadata": {},
   "outputs": [
    {
     "data": {
      "text/plain": [
       "'hello this file is created to learn about file handlling'"
      ]
     },
     "execution_count": 4,
     "metadata": {},
     "output_type": "execute_result"
    }
   ],
   "source": [
    "f.read()"
   ]
  },
  {
   "cell_type": "code",
   "execution_count": 10,
   "id": "d6b2aad9-eac1-4cc9-ac18-a0786c2d31b1",
   "metadata": {},
   "outputs": [],
   "source": [
    "f.close()"
   ]
  },
  {
   "cell_type": "code",
   "execution_count": 16,
   "id": "8f797543-b67d-4874-90e9-111de41ca0a3",
   "metadata": {},
   "outputs": [],
   "source": [
    "s=\"through this i can write in a file\""
   ]
  },
  {
   "cell_type": "code",
   "execution_count": 33,
   "id": "102acde5-8654-47a9-9633-4dda6b04a9ae",
   "metadata": {},
   "outputs": [],
   "source": [
    "f=open(\"yami.txt\",\"w\")"
   ]
  },
  {
   "cell_type": "code",
   "execution_count": 29,
   "id": "e2748d4d-3595-4a33-91ea-63abcdf43768",
   "metadata": {},
   "outputs": [
    {
     "data": {
      "text/plain": [
       "34"
      ]
     },
     "execution_count": 29,
     "metadata": {},
     "output_type": "execute_result"
    }
   ],
   "source": [
    "f.write(s)"
   ]
  },
  {
   "cell_type": "code",
   "execution_count": 36,
   "id": "2a80b5cb-beba-40aa-95c6-faf7c66adc40",
   "metadata": {},
   "outputs": [],
   "source": [
    "f.close()"
   ]
  },
  {
   "cell_type": "code",
   "execution_count": 43,
   "id": "90bcd661-e03f-4792-98a8-430ec75424d8",
   "metadata": {},
   "outputs": [
    {
     "name": "stdout",
     "output_type": "stream",
     "text": [
      "file does not exist\n"
     ]
    }
   ],
   "source": [
    "import os\n",
    "if os.path.exists(\"text.txt\"):\n",
    "    os.remove(\"text.txt\")\n",
    "    print(\"file deleted\")\n",
    "else:\n",
    "    print(\"file does not exist\")"
   ]
  }
 ],
 "metadata": {
  "kernelspec": {
   "display_name": "Python [conda env:base] *",
   "language": "python",
   "name": "conda-base-py"
  },
  "language_info": {
   "codemirror_mode": {
    "name": "ipython",
    "version": 3
   },
   "file_extension": ".py",
   "mimetype": "text/x-python",
   "name": "python",
   "nbconvert_exporter": "python",
   "pygments_lexer": "ipython3",
   "version": "3.12.7"
  }
 },
 "nbformat": 4,
 "nbformat_minor": 5
}
