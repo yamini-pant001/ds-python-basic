{
 "cells": [
  {
   "cell_type": "code",
   "execution_count": 3,
   "id": "9e54bdae-5770-4153-a6fe-cc315a7324a6",
   "metadata": {},
   "outputs": [],
   "source": [
    "import json\n"
   ]
  },
  {
   "cell_type": "code",
   "execution_count": 17,
   "id": "54095bdb-c228-4873-b502-e12ac183206e",
   "metadata": {},
   "outputs": [
    {
     "name": "stdout",
     "output_type": "stream",
     "text": [
      "{\"name\": \"Alice\", \"company\": \"IBM\", \"salary\": 45000}\n"
     ]
    }
   ],
   "source": [
    "obj={\"name\":\"Alice\",\"company\":\"IBM\",\"salary\": 45000}\n",
    "s=json.dumps(obj)\n",
    "type(s)\n",
    "print(s)"
   ]
  },
  {
   "cell_type": "code",
   "execution_count": 19,
   "id": "337a7ff9-2d7a-4174-9340-05e09cf84527",
   "metadata": {},
   "outputs": [],
   "source": [
    "d=json.loads('{\"name\":\"Alice\",\"company\":\"IBM\",\"salary\":45000}')"
   ]
  },
  {
   "cell_type": "code",
   "execution_count": 23,
   "id": "af40ce1c-1f37-4fa0-887b-cdb8428c1c41",
   "metadata": {},
   "outputs": [
    {
     "data": {
      "text/plain": [
       "dict"
      ]
     },
     "execution_count": 23,
     "metadata": {},
     "output_type": "execute_result"
    }
   ],
   "source": [
    "type(d)\n"
   ]
  },
  {
   "cell_type": "code",
   "execution_count": 25,
   "id": "909f6432-42e7-47bb-a313-d19b5596e1f7",
   "metadata": {},
   "outputs": [],
   "source": [
    "file=open(\"data.json\",\"w\")"
   ]
  },
  {
   "cell_type": "code",
   "execution_count": 29,
   "id": "ad15f514-3d1e-4d8c-84b4-6d79680da210",
   "metadata": {},
   "outputs": [],
   "source": [
    "json.dump(obj,file)"
   ]
  },
  {
   "cell_type": "code",
   "execution_count": 35,
   "id": "4d854f65-199f-4172-9c2b-56508912678d",
   "metadata": {},
   "outputs": [],
   "source": [
    "file.close()"
   ]
  },
  {
   "cell_type": "code",
   "execution_count": null,
   "id": "0586f8de-5fda-439a-9ddb-abb928862112",
   "metadata": {},
   "outputs": [],
   "source": []
  }
 ],
 "metadata": {
  "kernelspec": {
   "display_name": "Python [conda env:base] *",
   "language": "python",
   "name": "conda-base-py"
  },
  "language_info": {
   "codemirror_mode": {
    "name": "ipython",
    "version": 3
   },
   "file_extension": ".py",
   "mimetype": "text/x-python",
   "name": "python",
   "nbconvert_exporter": "python",
   "pygments_lexer": "ipython3",
   "version": "3.12.7"
  }
 },
 "nbformat": 4,
 "nbformat_minor": 5
}
