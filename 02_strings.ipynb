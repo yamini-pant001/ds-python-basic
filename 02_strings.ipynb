{
 "cells": [
  {
   "cell_type": "code",
   "execution_count": 1,
   "id": "394cca64-c083-4576-8e2c-8cf2ec763ca3",
   "metadata": {},
   "outputs": [],
   "source": [
    "name=\"yamini\""
   ]
  },
  {
   "cell_type": "code",
   "execution_count": 5,
   "id": "7c8e5da3-5198-48cb-aa54-8bec4c3684ad",
   "metadata": {},
   "outputs": [
    {
     "name": "stdout",
     "output_type": "stream",
     "text": [
      "yamini\n"
     ]
    }
   ],
   "source": [
    "print(name)"
   ]
  },
  {
   "cell_type": "code",
   "execution_count": 11,
   "id": "0629dd89-cf52-4fa4-9ef8-358ed5651eae",
   "metadata": {},
   "outputs": [
    {
     "data": {
      "text/plain": [
       "'YAMINI'"
      ]
     },
     "execution_count": 11,
     "metadata": {},
     "output_type": "execute_result"
    }
   ],
   "source": [
    "name.upper()"
   ]
  },
  {
   "cell_type": "code",
   "execution_count": 19,
   "id": "ebeeb378-af7c-44ea-98f3-bf296b9f5d54",
   "metadata": {},
   "outputs": [
    {
     "data": {
      "text/plain": [
       "True"
      ]
     },
     "execution_count": 19,
     "metadata": {},
     "output_type": "execute_result"
    }
   ],
   "source": [
    "name.endswith(\"ni\")"
   ]
  },
  {
   "cell_type": "code",
   "execution_count": 23,
   "id": "fbb921ba-ef64-490f-9cdf-ef9f6b79abbb",
   "metadata": {},
   "outputs": [
    {
     "data": {
      "text/plain": [
       "'yamini'"
      ]
     },
     "execution_count": 23,
     "metadata": {},
     "output_type": "execute_result"
    }
   ],
   "source": [
    "name.lower()"
   ]
  },
  {
   "cell_type": "code",
   "execution_count": 27,
   "id": "1d39c0ad-44b1-444e-8b45-8c840f861219",
   "metadata": {},
   "outputs": [
    {
     "data": {
      "text/plain": [
       "1"
      ]
     },
     "execution_count": 27,
     "metadata": {},
     "output_type": "execute_result"
    }
   ],
   "source": [
    "name.count(\"a\")"
   ]
  },
  {
   "cell_type": "code",
   "execution_count": 31,
   "id": "8ff23e41-b095-4e3a-903f-b41ff3b6129c",
   "metadata": {},
   "outputs": [
    {
     "data": {
      "text/plain": [
       "2"
      ]
     },
     "execution_count": 31,
     "metadata": {},
     "output_type": "execute_result"
    }
   ],
   "source": [
    "name.count(\"i\")"
   ]
  },
  {
   "cell_type": "code",
   "execution_count": 35,
   "id": "0418da8b-0688-4a51-9cc6-0778b83c950d",
   "metadata": {},
   "outputs": [
    {
     "name": "stdout",
     "output_type": "stream",
     "text": [
      "6\n"
     ]
    }
   ],
   "source": [
    "print(len(name))"
   ]
  },
  {
   "cell_type": "code",
   "execution_count": 39,
   "id": "a4390ab8-db3a-4198-bd3d-7a5385a8753c",
   "metadata": {},
   "outputs": [
    {
     "name": "stdout",
     "output_type": "stream",
     "text": [
      "yamene\n"
     ]
    }
   ],
   "source": [
    "print(name.replace(\"i\",\"e\"))"
   ]
  },
  {
   "cell_type": "code",
   "execution_count": 51,
   "id": "fe458738-4e23-47f2-8c0a-a0401300b9df",
   "metadata": {},
   "outputs": [
    {
     "data": {
      "text/plain": [
       "'yami'"
      ]
     },
     "execution_count": 51,
     "metadata": {},
     "output_type": "execute_result"
    }
   ],
   "source": [
    "name[0:4]"
   ]
  },
  {
   "cell_type": "code",
   "execution_count": null,
   "id": "c9228361-a965-4c17-a34e-793dbd9a97fd",
   "metadata": {},
   "outputs": [],
   "source": []
  }
 ],
 "metadata": {
  "kernelspec": {
   "display_name": "Python [conda env:base] *",
   "language": "python",
   "name": "conda-base-py"
  },
  "language_info": {
   "codemirror_mode": {
    "name": "ipython",
    "version": 3
   },
   "file_extension": ".py",
   "mimetype": "text/x-python",
   "name": "python",
   "nbconvert_exporter": "python",
   "pygments_lexer": "ipython3",
   "version": "3.12.7"
  }
 },
 "nbformat": 4,
 "nbformat_minor": 5
}
