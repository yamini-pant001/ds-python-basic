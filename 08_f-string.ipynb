{
 "cells": [
  {
   "cell_type": "code",
   "execution_count": 5,
   "id": "bda8ad41-5f31-4452-b36f-3a40a950551e",
   "metadata": {},
   "outputs": [],
   "source": [
    "name=\"yamini\""
   ]
  },
  {
   "cell_type": "code",
   "execution_count": 9,
   "id": "ff577756-0cdf-47dc-a811-ffcbb157d220",
   "metadata": {},
   "outputs": [
    {
     "data": {
      "text/plain": [
       "'y'"
      ]
     },
     "execution_count": 9,
     "metadata": {},
     "output_type": "execute_result"
    }
   ],
   "source": [
    "name[0]"
   ]
  },
  {
   "cell_type": "code",
   "execution_count": 13,
   "id": "2ab6bebf-0744-46b7-bd0f-17c22da5aa8e",
   "metadata": {},
   "outputs": [
    {
     "data": {
      "text/plain": [
       "'i'"
      ]
     },
     "execution_count": 13,
     "metadata": {},
     "output_type": "execute_result"
    }
   ],
   "source": [
    "name[3]"
   ]
  },
  {
   "cell_type": "code",
   "execution_count": 27,
   "id": "06a4028a-3092-40a5-bfea-0e15b6c7fe70",
   "metadata": {},
   "outputs": [],
   "source": [
    "age=20\n"
   ]
  },
  {
   "cell_type": "code",
   "execution_count": 29,
   "id": "4abc9b64-cb55-48cb-a73f-2ad6ee7dde84",
   "metadata": {},
   "outputs": [
    {
     "name": "stdout",
     "output_type": "stream",
     "text": [
      "My name is yamini and I am 20 year old\n"
     ]
    }
   ],
   "source": [
    "print(f\"My name is {name} and I am {age} year old\")"
   ]
  },
  {
   "cell_type": "code",
   "execution_count": 25,
   "id": "af0c36ee-6ce3-4a87-8456-6d2c790f64c8",
   "metadata": {},
   "outputs": [
    {
     "name": "stdout",
     "output_type": "stream",
     "text": [
      "yamini    \n",
      "    yamini\n",
      "  yamini  \n"
     ]
    }
   ],
   "source": [
    "print(f\"{'yamini':<10}\")  #left align\n",
    "print(f\"{'yamini':>10}\")  #right align\n",
    "print(f\"{'yamini':^10}\")  # centre align"
   ]
  }
 ],
 "metadata": {
  "kernelspec": {
   "display_name": "Python [conda env:base] *",
   "language": "python",
   "name": "conda-base-py"
  },
  "language_info": {
   "codemirror_mode": {
    "name": "ipython",
    "version": 3
   },
   "file_extension": ".py",
   "mimetype": "text/x-python",
   "name": "python",
   "nbconvert_exporter": "python",
   "pygments_lexer": "ipython3",
   "version": "3.12.7"
  }
 },
 "nbformat": 4,
 "nbformat_minor": 5
}
