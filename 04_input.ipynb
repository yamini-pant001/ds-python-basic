{
 "cells": [
  {
   "cell_type": "code",
   "execution_count": 7,
   "id": "aa8dabe3-ec7b-4768-aac1-2fb828cfe44c",
   "metadata": {},
   "outputs": [
    {
     "name": "stdin",
     "output_type": "stream",
     "text": [
      "enter a value of a 45\n"
     ]
    }
   ],
   "source": [
    "a=input(\"enter a value of a\")"
   ]
  },
  {
   "cell_type": "code",
   "execution_count": 11,
   "id": "7a5f9153-dffe-4496-8f0b-cc1e9df212e8",
   "metadata": {},
   "outputs": [
    {
     "data": {
      "text/plain": [
       "'45'"
      ]
     },
     "execution_count": 11,
     "metadata": {},
     "output_type": "execute_result"
    }
   ],
   "source": [
    "a"
   ]
  },
  {
   "cell_type": "code",
   "execution_count": 15,
   "id": "88c07b95-468b-426c-b7b8-0bcfde142a65",
   "metadata": {},
   "outputs": [
    {
     "name": "stdin",
     "output_type": "stream",
     "text": [
      "enter a value of b 5\n"
     ]
    }
   ],
   "source": [
    "b=input(\"enter a value of b\")"
   ]
  },
  {
   "cell_type": "code",
   "execution_count": 19,
   "id": "5ca9ab56-8830-4091-9224-638ccc3debf7",
   "metadata": {},
   "outputs": [
    {
     "data": {
      "text/plain": [
       "'455'"
      ]
     },
     "execution_count": 19,
     "metadata": {},
     "output_type": "execute_result"
    }
   ],
   "source": [
    "a+b   # it print add string a and b"
   ]
  },
  {
   "cell_type": "code",
   "execution_count": 23,
   "id": "7f195f41-e5ee-44ad-a6c5-a8fdb0948440",
   "metadata": {},
   "outputs": [
    {
     "data": {
      "text/plain": [
       "50"
      ]
     },
     "execution_count": 23,
     "metadata": {},
     "output_type": "execute_result"
    }
   ],
   "source": [
    "int(a)+int(b) # it explictly convert string into integer"
   ]
  },
  {
   "cell_type": "code",
   "execution_count": null,
   "id": "d041c16c-6083-4145-89f5-feb1dc58a32a",
   "metadata": {},
   "outputs": [],
   "source": []
  }
 ],
 "metadata": {
  "kernelspec": {
   "display_name": "Python [conda env:base] *",
   "language": "python",
   "name": "conda-base-py"
  },
  "language_info": {
   "codemirror_mode": {
    "name": "ipython",
    "version": 3
   },
   "file_extension": ".py",
   "mimetype": "text/x-python",
   "name": "python",
   "nbconvert_exporter": "python",
   "pygments_lexer": "ipython3",
   "version": "3.12.7"
  }
 },
 "nbformat": 4,
 "nbformat_minor": 5
}
