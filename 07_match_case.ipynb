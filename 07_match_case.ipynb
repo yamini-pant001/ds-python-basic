{
 "cells": [
  {
   "cell_type": "code",
   "execution_count": 16,
   "id": "4665dc60-22a6-43f9-ae48-41fdbb902807",
   "metadata": {},
   "outputs": [
    {
     "name": "stdout",
     "output_type": "stream",
     "text": [
      "end of program\n"
     ]
    }
   ],
   "source": [
    "def http_status(code):\n",
    "    match code:\n",
    "        case 200:\n",
    "            print(\"response ok\")\n",
    "        case 400:\n",
    "            print(\"Bad reponse\")\n",
    "        case 404:\n",
    "            print(\"Not found\")\n",
    "        case _:\n",
    "            print(\"Nothing matched\")\n",
    "print(\"end of program\")"
   ]
  },
  {
   "cell_type": "code",
   "execution_count": 10,
   "id": "97e85436-4245-4ed7-8a77-a447410a4821",
   "metadata": {},
   "outputs": [
    {
     "name": "stdout",
     "output_type": "stream",
     "text": [
      "Not found\n"
     ]
    }
   ],
   "source": [
    "http_status(404)"
   ]
  },
  {
   "cell_type": "code",
   "execution_count": 20,
   "id": "e2a01c45-d2e6-4210-a166-86a0742abd9b",
   "metadata": {},
   "outputs": [
    {
     "name": "stdout",
     "output_type": "stream",
     "text": [
      "Nothing matched\n"
     ]
    }
   ],
   "source": [
    "http_status(5000)"
   ]
  }
 ],
 "metadata": {
  "kernelspec": {
   "display_name": "Python [conda env:base] *",
   "language": "python",
   "name": "conda-base-py"
  },
  "language_info": {
   "codemirror_mode": {
    "name": "ipython",
    "version": 3
   },
   "file_extension": ".py",
   "mimetype": "text/x-python",
   "name": "python",
   "nbconvert_exporter": "python",
   "pygments_lexer": "ipython3",
   "version": "3.12.7"
  }
 },
 "nbformat": 4,
 "nbformat_minor": 5
}
