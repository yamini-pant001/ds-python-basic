{
 "cells": [
  {
   "cell_type": "code",
   "execution_count": 1,
   "id": "cf82da12-7f3d-4215-be56-bed3882f8f21",
   "metadata": {},
   "outputs": [],
   "source": [
    "a=4"
   ]
  },
  {
   "cell_type": "code",
   "execution_count": 3,
   "id": "8ea80896-06ba-4b32-9958-8a0143fe6797",
   "metadata": {},
   "outputs": [
    {
     "name": "stdout",
     "output_type": "stream",
     "text": [
      "smaller\n"
     ]
    }
   ],
   "source": [
    "if(a>53):\n",
    "    print(\"greater\")\n",
    "else:\n",
    "    print(\"smaller\")"
   ]
  },
  {
   "cell_type": "code",
   "execution_count": 7,
   "id": "b21c6bfb-8992-45ee-85c8-c1cb30803bea",
   "metadata": {},
   "outputs": [
    {
     "name": "stdout",
     "output_type": "stream",
     "text": [
      "Greater than 40\n"
     ]
    }
   ],
   "source": [
    "b=49\n",
    "if(b>50):\n",
    "    print(\"Greater than 50\")\n",
    "elif(b>40):\n",
    "    print(\"Greater than 40\")\n",
    "elif(b>30):\n",
    "    print(\"Greater than 30\")\n",
    "else:\n",
    "    print(\"Done!\")"
   ]
  },
  {
   "cell_type": "code",
   "execution_count": null,
   "id": "73aa9b98-1600-49a4-af28-91d650fff2fd",
   "metadata": {},
   "outputs": [],
   "source": []
  }
 ],
 "metadata": {
  "kernelspec": {
   "display_name": "Python [conda env:base] *",
   "language": "python",
   "name": "conda-base-py"
  },
  "language_info": {
   "codemirror_mode": {
    "name": "ipython",
    "version": 3
   },
   "file_extension": ".py",
   "mimetype": "text/x-python",
   "name": "python",
   "nbconvert_exporter": "python",
   "pygments_lexer": "ipython3",
   "version": "3.12.7"
  }
 },
 "nbformat": 4,
 "nbformat_minor": 5
}
