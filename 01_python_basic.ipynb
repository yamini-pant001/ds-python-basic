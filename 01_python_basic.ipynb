{
 "cells": [
  {
   "cell_type": "code",
   "execution_count": 1,
   "id": "70719cec-58f5-48f8-b1fb-fa0b21d33d6c",
   "metadata": {},
   "outputs": [],
   "source": [
    "a=5"
   ]
  },
  {
   "cell_type": "code",
   "execution_count": 3,
   "id": "7f7b7c83-c0bf-4d25-b311-a29c098cfea4",
   "metadata": {},
   "outputs": [],
   "source": [
    "b=32"
   ]
  },
  {
   "cell_type": "code",
   "execution_count": 5,
   "id": "907fac2b-a9d1-4104-9eee-2be96d3bc6e9",
   "metadata": {},
   "outputs": [
    {
     "data": {
      "text/plain": [
       "37"
      ]
     },
     "execution_count": 5,
     "metadata": {},
     "output_type": "execute_result"
    }
   ],
   "source": [
    "a+b"
   ]
  },
  {
   "cell_type": "code",
   "execution_count": 27,
   "id": "307be03d-b6dc-4082-91f5-259fc239d653",
   "metadata": {},
   "outputs": [],
   "source": [
    "name=\"yamini\""
   ]
  },
  {
   "cell_type": "code",
   "execution_count": 29,
   "id": "d401f58b-0753-456f-b1d3-7a4cce0b2985",
   "metadata": {},
   "outputs": [
    {
     "name": "stdout",
     "output_type": "stream",
     "text": [
      "yamini\n"
     ]
    }
   ],
   "source": [
    "print(name)"
   ]
  },
  {
   "cell_type": "code",
   "execution_count": 9,
   "id": "15066eb4-cf3a-4b91-bec5-fb43c38be854",
   "metadata": {},
   "outputs": [
    {
     "name": "stdout",
     "output_type": "stream",
     "text": [
      "Hello World\n"
     ]
    }
   ],
   "source": [
    "print(\"Hello World\")"
   ]
  },
  {
   "cell_type": "code",
   "execution_count": 19,
   "id": "82f3cb01-9eef-49e5-897c-464e0a52a89e",
   "metadata": {},
   "outputs": [],
   "source": [
    "#this is a comment"
   ]
  },
  {
   "cell_type": "code",
   "execution_count": 23,
   "id": "e60b1420-4cfa-4639-a932-00f666b85e65",
   "metadata": {},
   "outputs": [
    {
     "name": "stdout",
     "output_type": "stream",
     "text": [
      "<class 'int'>\n"
     ]
    }
   ],
   "source": [
    "print(type(a))"
   ]
  },
  {
   "cell_type": "code",
   "execution_count": 33,
   "id": "c87d222e-978b-4622-9b5d-24663a7b50f1",
   "metadata": {},
   "outputs": [
    {
     "name": "stdout",
     "output_type": "stream",
     "text": [
      "<class 'str'>\n"
     ]
    }
   ],
   "source": [
    "print(type(name))"
   ]
  },
  {
   "cell_type": "code",
   "execution_count": 35,
   "id": "1267cde4-5475-4786-b3c0-37f8b7b8a3fa",
   "metadata": {},
   "outputs": [],
   "source": [
    "x=\"2909\""
   ]
  },
  {
   "cell_type": "code",
   "execution_count": 37,
   "id": "e0f0dbfe-72d5-4f2e-af45-8f7b7234e77a",
   "metadata": {},
   "outputs": [],
   "source": [
    "y=\"3679\""
   ]
  },
  {
   "cell_type": "code",
   "execution_count": 43,
   "id": "4ebaa55d-4383-4b4d-b656-7260b612e80d",
   "metadata": {},
   "outputs": [
    {
     "name": "stdout",
     "output_type": "stream",
     "text": [
      "6588\n"
     ]
    }
   ],
   "source": [
    "print(int(x)+int(y))       #typecasting"
   ]
  }
 ],
 "metadata": {
  "kernelspec": {
   "display_name": "Python [conda env:base] *",
   "language": "python",
   "name": "conda-base-py"
  },
  "language_info": {
   "codemirror_mode": {
    "name": "ipython",
    "version": 3
   },
   "file_extension": ".py",
   "mimetype": "text/x-python",
   "name": "python",
   "nbconvert_exporter": "python",
   "pygments_lexer": "ipython3",
   "version": "3.12.7"
  }
 },
 "nbformat": 4,
 "nbformat_minor": 5
}
