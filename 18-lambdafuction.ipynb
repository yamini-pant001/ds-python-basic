{
 "cells": [
  {
   "cell_type": "code",
   "execution_count": null,
   "id": "7cd1b85b-b815-43a2-a837-7d0f992e9cd4",
   "metadata": {},
   "outputs": [],
   "source": [
    "#this is used for simple function or a simple expression"
   ]
  },
  {
   "cell_type": "code",
   "execution_count": 1,
   "id": "d2a01523-e00c-4797-9929-2e530b88d28b",
   "metadata": {},
   "outputs": [
    {
     "data": {
      "text/plain": [
       "8"
      ]
     },
     "execution_count": 1,
     "metadata": {},
     "output_type": "execute_result"
    }
   ],
   "source": [
    "cube=lambda x:x*x*x\n",
    "cube(2)"
   ]
  },
  {
   "cell_type": "code",
   "execution_count": 3,
   "id": "f9785dba-6f38-41f5-962a-ecb4ea96ac1f",
   "metadata": {},
   "outputs": [
    {
     "data": {
      "text/plain": [
       "8"
      ]
     },
     "execution_count": 3,
     "metadata": {},
     "output_type": "execute_result"
    }
   ],
   "source": [
    "sum=lambda x,y:x+y\n",
    "sum(3,5)"
   ]
  }
 ],
 "metadata": {
  "kernelspec": {
   "display_name": "Python [conda env:base] *",
   "language": "python",
   "name": "conda-base-py"
  },
  "language_info": {
   "codemirror_mode": {
    "name": "ipython",
    "version": 3
   },
   "file_extension": ".py",
   "mimetype": "text/x-python",
   "name": "python",
   "nbconvert_exporter": "python",
   "pygments_lexer": "ipython3",
   "version": "3.12.7"
  }
 },
 "nbformat": 4,
 "nbformat_minor": 5
}
