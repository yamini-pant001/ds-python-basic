{
 "cells": [
  {
   "cell_type": "code",
   "execution_count": 15,
   "id": "c11a26ce-ff14-4933-a523-a6d667d61af6",
   "metadata": {},
   "outputs": [
    {
     "name": "stdin",
     "output_type": "stream",
     "text": [
      "Enter your name :  yamini\n",
      "Enter your age :  20\n",
      "Enter your train name :  rajdani express\n",
      "Enter your source station :  dehradun\n",
      "Enter your desgination :  delhi\n"
     ]
    },
    {
     "name": "stdout",
     "output_type": "stream",
     "text": [
      "railway reservation form\n",
      "passenger name  : yamini\n",
      "passenger age   : 20\n",
      "train name      : rajdani express\n",
      "source station  : dehradun\n",
      "destination     : delhi\n",
      "Ticket booked confirmed!\n"
     ]
    }
   ],
   "source": [
    "class Railway_reservation:\n",
    "    def __init__(self,name,age,train,source,destination):\n",
    "        self.name=name\n",
    "        self.age=age\n",
    "        self.train=train\n",
    "        self.source=source\n",
    "        self.destination=destination\n",
    "    def show_form(self):\n",
    "        print(\"railway reservation form\")\n",
    "        print(f\"passenger name  : {self.name}\")\n",
    "        print(f\"passenger age   : {self.age}\")\n",
    "        print(f\"train name      : {self.train}\")\n",
    "        print(f\"source station  : {self.source}\")\n",
    "        print(f\"destination     : {self.destination}\")\n",
    "        print(\"Ticket booked confirmed!\")\n",
    "\n",
    "name=input(\"Enter your name : \")\n",
    "age=int(input(\"Enter your age : \"))\n",
    "train=input(\"Enter your train name : \")\n",
    "source=input(\"Enter your source station : \")\n",
    "destination=input(\"Enter your desgination : \")\n",
    "\n",
    "passenger1=Railway_reservation(name,age,train,source,destination)\n",
    "passenger1.show_form()\n"
   ]
  },
  {
   "cell_type": "code",
   "execution_count": null,
   "id": "4b4a740c-6862-413c-99ed-129d904b762d",
   "metadata": {},
   "outputs": [],
   "source": [
    "0"
   ]
  }
 ],
 "metadata": {
  "kernelspec": {
   "display_name": "Python [conda env:base] *",
   "language": "python",
   "name": "conda-base-py"
  },
  "language_info": {
   "codemirror_mode": {
    "name": "ipython",
    "version": 3
   },
   "file_extension": ".py",
   "mimetype": "text/x-python",
   "name": "python",
   "nbconvert_exporter": "python",
   "pygments_lexer": "ipython3",
   "version": "3.12.7"
  }
 },
 "nbformat": 4,
 "nbformat_minor": 5
}
