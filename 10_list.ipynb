{
 "cells": [
  {
   "cell_type": "code",
   "execution_count": 1,
   "id": "e4b18242-c4a2-4a5d-b7af-ddd1ba62cd3e",
   "metadata": {},
   "outputs": [],
   "source": [
    "l=[3,4,7,46,45]"
   ]
  },
  {
   "cell_type": "code",
   "execution_count": 5,
   "id": "a7b119f4-9cab-4d96-8634-2e0f57940630",
   "metadata": {},
   "outputs": [
    {
     "data": {
      "text/plain": [
       "46"
      ]
     },
     "execution_count": 5,
     "metadata": {},
     "output_type": "execute_result"
    }
   ],
   "source": [
    "l[3]"
   ]
  },
  {
   "cell_type": "code",
   "execution_count": 9,
   "id": "6132c8de-5e95-433c-8d8a-fa665488de5e",
   "metadata": {},
   "outputs": [],
   "source": [
    "l.append(36)"
   ]
  },
  {
   "cell_type": "code",
   "execution_count": 13,
   "id": "f1848b16-02c9-401a-8ae8-36d7bb2e5eb6",
   "metadata": {},
   "outputs": [
    {
     "name": "stdout",
     "output_type": "stream",
     "text": [
      "[3, 4, 7, 46, 45, 36, 36]\n"
     ]
    }
   ],
   "source": [
    "print(l)"
   ]
  },
  {
   "cell_type": "code",
   "execution_count": 17,
   "id": "72df2534-20d0-4953-bf0b-5f31c9400fa9",
   "metadata": {},
   "outputs": [],
   "source": [
    "l2=['mango','banana','kiwi']\n",
    "l.extend(l2)"
   ]
  },
  {
   "cell_type": "code",
   "execution_count": 21,
   "id": "35048fab-eba4-4e3b-8927-6ff5b0dfe619",
   "metadata": {},
   "outputs": [
    {
     "name": "stdout",
     "output_type": "stream",
     "text": [
      "[3, 4, 7, 46, 45, 36, 36, 'mango', 'banana', 'kiwi', 'mango', 'banana', 'kiwi']\n"
     ]
    }
   ],
   "source": [
    "print(l)"
   ]
  },
  {
   "cell_type": "code",
   "execution_count": 25,
   "id": "9f1f1a73-43a0-4d58-bc0b-b4852a2b705a",
   "metadata": {},
   "outputs": [],
   "source": [
    "l.insert(2,300)"
   ]
  },
  {
   "cell_type": "code",
   "execution_count": 29,
   "id": "9aa5fb20-b676-4b72-b1ff-392346e42df6",
   "metadata": {},
   "outputs": [
    {
     "data": {
      "text/plain": [
       "[3,\n",
       " 4,\n",
       " 300,\n",
       " 300,\n",
       " 7,\n",
       " 46,\n",
       " 45,\n",
       " 36,\n",
       " 36,\n",
       " 'mango',\n",
       " 'banana',\n",
       " 'kiwi',\n",
       " 'mango',\n",
       " 'banana',\n",
       " 'kiwi']"
      ]
     },
     "execution_count": 29,
     "metadata": {},
     "output_type": "execute_result"
    }
   ],
   "source": [
    "l"
   ]
  },
  {
   "cell_type": "code",
   "execution_count": 38,
   "id": "5637a5f6-55cd-45b0-835b-5f5bce285a6f",
   "metadata": {},
   "outputs": [
    {
     "name": "stdout",
     "output_type": "stream",
     "text": [
      "yes\n"
     ]
    }
   ],
   "source": [
    "if \"mango\" in l2:\n",
    "    print(\"yes\")"
   ]
  },
  {
   "cell_type": "code",
   "execution_count": 46,
   "id": "97f00b1d-7b9e-4dc4-bba7-f8f100217e2e",
   "metadata": {},
   "outputs": [
    {
     "name": "stdout",
     "output_type": "stream",
     "text": [
      "no vegetable in a list\n"
     ]
    }
   ],
   "source": [
    "if \"tamato\" in l2:\n",
    "    print(\"vegetable in a list\")\n",
    "else:\n",
    "    print(\"no vegetable in a list\")"
   ]
  },
  {
   "cell_type": "code",
   "execution_count": null,
   "id": "7a12cb71-0f2f-46d1-be7c-842b5b68ffff",
   "metadata": {},
   "outputs": [],
   "source": []
  }
 ],
 "metadata": {
  "kernelspec": {
   "display_name": "Python [conda env:base] *",
   "language": "python",
   "name": "conda-base-py"
  },
  "language_info": {
   "codemirror_mode": {
    "name": "ipython",
    "version": 3
   },
   "file_extension": ".py",
   "mimetype": "text/x-python",
   "name": "python",
   "nbconvert_exporter": "python",
   "pygments_lexer": "ipython3",
   "version": "3.12.7"
  }
 },
 "nbformat": 4,
 "nbformat_minor": 5
}
