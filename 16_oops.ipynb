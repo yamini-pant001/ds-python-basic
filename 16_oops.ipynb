{
 "cells": [
  {
   "cell_type": "code",
   "execution_count": 21,
   "id": "61d1b9df-4164-48e2-ac14-e8f216cd8141",
   "metadata": {},
   "outputs": [
    {
     "name": "stdout",
     "output_type": "stream",
     "text": [
      "The company  of yamini is HP and salary is $47000\n",
      "the time is now\n"
     ]
    }
   ],
   "source": [
    "class employee:\n",
    "    company=\"HP\"\n",
    "    def __init__(self,name,salary):\n",
    "         self.name=name\n",
    "         self.salary=salary\n",
    "    def print_detail(self):\n",
    "        print(f\"The company  of {self.name} is {self.company} and salary is ${self.salary}\")\n",
    "    @staticmethod\n",
    "    def price_item():\n",
    "        print(\"the time is now\")\n",
    "e=employee(\"yamini\",47000)\n",
    "e.print_detail()\n",
    "e.price_item()"
   ]
  },
  {
   "cell_type": "code",
   "execution_count": null,
   "id": "c7591ca0-edcd-4318-8420-41ff7746051f",
   "metadata": {},
   "outputs": [],
   "source": [
    " "
   ]
  }
 ],
 "metadata": {
  "kernelspec": {
   "display_name": "Python [conda env:base] *",
   "language": "python",
   "name": "conda-base-py"
  },
  "language_info": {
   "codemirror_mode": {
    "name": "ipython",
    "version": 3
   },
   "file_extension": ".py",
   "mimetype": "text/x-python",
   "name": "python",
   "nbconvert_exporter": "python",
   "pygments_lexer": "ipython3",
   "version": "3.12.7"
  }
 },
 "nbformat": 4,
 "nbformat_minor": 5
}
